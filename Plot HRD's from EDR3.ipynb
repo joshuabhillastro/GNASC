{
 "cells": [
  {
   "cell_type": "code",
   "execution_count": null,
   "id": "fdb8586d",
   "metadata": {},
   "outputs": [],
   "source": [
    "from astroquery.gaia import Gaia\n",
    "import astropy.units as u\n",
    "from astropy.coordinates import SkyCoord\n",
    "import matplotlib.pyplot as plt\n",
    "\n",
    "Gaia.MAIN_GAIA_TABLE = \"gaiaedr3.gaia_source\" # Select early Data Release 3\n",
    "\n",
    "coord = SkyCoord(ra=30, dec=45, unit=(u.degree, u.degree), frame='icrs') #certain part of sky to query\n",
    "width = u.Quantity(0.1, u.deg) #how wide to make the query area\n",
    "height = u.Quantity(0.1, u.deg) #how high to make the query area\n",
    "r = Gaia.query_object_async(coordinate=coord, width=width, height=height) #query EDR3\n",
    "\n",
    "bp_rp = r['bp_rp'].data\n",
    "M_g = r['phot_g_mean_mag'].data\n",
    "\n",
    "plt.figure()\n",
    "plt.scatter(bp_rp,M_g)\n"
   ]
  }
 ],
 "metadata": {
  "kernelspec": {
   "display_name": "Python 3",
   "language": "python",
   "name": "python3"
  },
  "language_info": {
   "codemirror_mode": {
    "name": "ipython",
    "version": 3
   },
   "file_extension": ".py",
   "mimetype": "text/x-python",
   "name": "python",
   "nbconvert_exporter": "python",
   "pygments_lexer": "ipython3",
   "version": "3.8.8"
  }
 },
 "nbformat": 4,
 "nbformat_minor": 5
}
