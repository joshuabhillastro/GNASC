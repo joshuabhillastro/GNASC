{
 "cells": [
  {
   "cell_type": "code",
   "execution_count": 8,
   "id": "996ffb81",
   "metadata": {},
   "outputs": [
    {
     "name": "stdout",
     "output_type": "stream",
     "text": [
      "    solution_id             designation         ...       ecl_lat      \n",
      "------------------- --------------------------- ... -------------------\n",
      "1636042515805110273        Gaia EDR3 4295806720 ...  -16.32957416215404\n",
      "1636042515805110273       Gaia EDR3 34361129088 ... -16.317212317623884\n",
      "1636042515805110273       Gaia EDR3 38655544960 ... -16.318521975182243\n",
      "1636042515805110273      Gaia EDR3 309238066432 ... -16.298138818420995\n",
      "1636042515805110273      Gaia EDR3 343597448960 ... -16.283806024119286\n",
      "1636042515805110273      Gaia EDR3 515396233856 ...  -16.27215908611517\n",
      "1636042515805110273      Gaia EDR3 549755818112 ...  -16.30407740663594\n",
      "1636042515805110273      Gaia EDR3 828929527040 ... -16.277574201332826\n",
      "1636042515805110273      Gaia EDR3 927713095040 ... -16.265785881873917\n",
      "1636042515805110273      Gaia EDR3 966367933184 ...  -16.26447395755849\n",
      "                ...                         ... ...                 ...\n",
      "1636042515805110273 Gaia EDR3 27371933951672192 ...   -5.69216662576966\n",
      "1636042515805110273 Gaia EDR3 27371964016612480 ...  -5.690838690891965\n",
      "1636042515805110273 Gaia EDR3 27372204534782848 ...  -5.673843020422924\n",
      "1636042515805110273 Gaia EDR3 27372479416206848 ... -5.6742049904172775\n",
      "1636042515805110273 Gaia EDR3 27372552427324544 ...  -5.660052665828585\n",
      "1636042515805110273 Gaia EDR3 27372621147145600 ...  -5.653663663455759\n",
      "1636042515805110273 Gaia EDR3 27372823010075392 ...  -5.642161506808292\n",
      "1636042515805110273 Gaia EDR3 27372857369819904 ...  -5.628782913884759\n",
      "1636042515805110273 Gaia EDR3 27372926089292288 ...  -5.655776944694223\n",
      "1636042515805110273 Gaia EDR3 27373067823571968 ...  -5.639511364933482\n",
      "1636042515805110273 Gaia EDR3 27373239622051072 ...  -5.621846863544021\n",
      "Length = 528333 rows\n"
     ]
    }
   ],
   "source": [
    "from astropy.io import ascii #atropy table functions\n",
    "\n",
    "data = ascii.read('/Users/joshhill/Gaia Data/GaiaSource_000000-003111.csv') #replace with your data file location\n",
    "print(data) #print the table of gaia data"
   ]
  },
  {
   "cell_type": "code",
   "execution_count": null,
   "id": "d4aed8c8",
   "metadata": {},
   "outputs": [],
   "source": []
  },
  {
   "cell_type": "code",
   "execution_count": null,
   "id": "1a1b8782",
   "metadata": {},
   "outputs": [],
   "source": []
  }
 ],
 "metadata": {
  "kernelspec": {
   "display_name": "Python 3",
   "language": "python",
   "name": "python3"
  },
  "language_info": {
   "codemirror_mode": {
    "name": "ipython",
    "version": 3
   },
   "file_extension": ".py",
   "mimetype": "text/x-python",
   "name": "python",
   "nbconvert_exporter": "python",
   "pygments_lexer": "ipython3",
   "version": "3.8.8"
  }
 },
 "nbformat": 4,
 "nbformat_minor": 5
}
